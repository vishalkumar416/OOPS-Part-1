{
 "cells": [
  {
   "cell_type": "code",
   "execution_count": 1,
   "id": "69be5214-a8fd-4f79-8bf5-9bf8f141557a",
   "metadata": {},
   "outputs": [
    {
     "name": "stdout",
     "output_type": "stream",
     "text": [
      "Vehicle Name: Range Rover\n",
      "Max Speed: 180 km/h\n",
      "Average: 15 km/l\n"
     ]
    }
   ],
   "source": [
    "class Vehicle:\n",
    "    def __init__(self, name_of_vehicle, max_speed, average_of_vehicle):\n",
    "        self.name_of_vehicle = name_of_vehicle\n",
    "        self.max_speed = max_speed\n",
    "        self.average_of_vehicle = average_of_vehicle\n",
    "veh = Vehicle(\"Range Rover\", 180, 15)\n",
    "# Accessing the instance variables\n",
    "print(\"Vehicle Name:\", veh.name_of_vehicle)\n",
    "print(\"Max Speed:\", veh.max_speed, \"km/h\")\n",
    "print(\"Average:\", veh.average_of_vehicle, \"km/l\")\n"
   ]
  },
  {
   "cell_type": "code",
   "execution_count": 2,
   "id": "0ca0584c-0c54-4e3a-b4e9-92fd95b82bc3",
   "metadata": {},
   "outputs": [
    {
     "name": "stdout",
     "output_type": "stream",
     "text": [
      "Range Rover has a seating capacity of 5 people.\n"
     ]
    }
   ],
   "source": [
    "class Vehicle:\n",
    "    def __init__(self, name_of_vehicle, max_speed, average_of_vehicle):\n",
    "        self.name_of_vehicle = name_of_vehicle\n",
    "        self.max_speed = max_speed\n",
    "        self.average_of_vehicle = average_of_vehicle\n",
    "\n",
    "class Car(Vehicle):\n",
    "    def seating_capacity(self, capacity):\n",
    "        return self.name_of_vehicle + \" has a seating capacity of \" + str(capacity) + \" people.\"\n",
    "\n",
    "car = Car(\"Range Rover\", 180, 15)\n",
    "\n",
    "# Accessing the method from the Car class\n",
    "capacity_info = car.seating_capacity(5)\n",
    "print(capacity_info)\n"
   ]
  },
  {
   "cell_type": "code",
   "execution_count": 3,
   "id": "cc777443-1db5-460e-8907-3f915cd75d10",
   "metadata": {},
   "outputs": [
    {
     "name": "stdout",
     "output_type": "stream",
     "text": [
      "V8 engine started.\n",
      "4 wheels are rotating.\n",
      "Range Rover with a V8 engine and 4 wheels.\n"
     ]
    }
   ],
   "source": [
    "# Multiple inheritance is a feature in object-oriented programming where a class can inherit attributes and methods from more than one parent class. This allows a class to combine the functionality of multiple classes.\n",
    "\n",
    "# Parent class 1\n",
    "class Engine:\n",
    "    def __init__(self, engine_type):\n",
    "        self.engine_type = engine_type\n",
    "\n",
    "    def start_engine(self):\n",
    "        return self.engine_type + \" engine started.\"\n",
    "\n",
    "# Parent class 2\n",
    "class Wheels:\n",
    "    def __init__(self, number_of_wheels):\n",
    "        self.number_of_wheels = number_of_wheels\n",
    "\n",
    "    def rotate_wheels(self):\n",
    "        return str(self.number_of_wheels) + \" wheels are rotating.\"\n",
    "\n",
    "# Child class inheriting from both Engine and Wheels\n",
    "class Car(Engine, Wheels):\n",
    "    def __init__(self, engine_type, number_of_wheels, car_name):\n",
    "        Engine.__init__(self, engine_type)\n",
    "        Wheels.__init__(self, number_of_wheels)\n",
    "        self.car_name = car_name\n",
    "\n",
    "    def car_details(self):\n",
    "        return self.car_name + \" with a \" + self.engine_type + \" engine and \" + str(self.number_of_wheels) + \" wheels.\"\n",
    "\n",
    "# Creating an instance of the Car class\n",
    "my_car = Car(\"V8\", 4, \"Range Rover\")\n",
    "\n",
    "# Accessing methods from both parent classes\n",
    "print(my_car.start_engine())        # Output: V8 engine started.\n",
    "print(my_car.rotate_wheels())       # Output: 4 wheels are rotating.\n",
    "print(my_car.car_details())         # Output: Ford Mustang with a V8 engine and 4 wheels.\n"
   ]
  },
  {
   "cell_type": "code",
   "execution_count": 4,
   "id": "b09d89f2-2c30-40ea-a68b-ad63dbd2df49",
   "metadata": {},
   "outputs": [
    {
     "name": "stdout",
     "output_type": "stream",
     "text": [
      "Vishal Kumar\n",
      "20\n",
      "Rakshit Arora\n",
      "20\n",
      "Invalid input: Name must be a string.\n",
      "Invalid input: Age must be a positive integer.\n",
      "Rakshit Arora\n",
      "20\n"
     ]
    }
   ],
   "source": [
    "# In Python, getter and setter methods are used to access and update the values of private attributes of a class. They are part of the property management system in Python and provide a way to encapsulate the attributes while controlling how they are accessed and modified.\n",
    "\n",
    "# Getter: A method that retrieves the value of a private attribute.\n",
    "# Setter: A method that sets or updates the value of a private attribute.\n",
    "\n",
    "class Person:\n",
    "    def __init__(self, name, age):\n",
    "        self._name = name\n",
    "        self._age = age\n",
    "\n",
    "    # Getter for name\n",
    "    @property\n",
    "    def name(self):\n",
    "        return self._name\n",
    "\n",
    "    # Setter for name\n",
    "    @name.setter\n",
    "    def name(self, value):\n",
    "        if isinstance(value, str):\n",
    "            self._name = value\n",
    "        else:\n",
    "            print(\"Invalid input: Name must be a string.\")\n",
    "            \n",
    "    # Getter for age\n",
    "    @property\n",
    "    def age(self):\n",
    "        return self._age\n",
    "\n",
    "    # Setter for age\n",
    "    @age.setter\n",
    "    def age(self, value):\n",
    "        if isinstance(value, int) and value > 0:\n",
    "            self._age = value\n",
    "        else:\n",
    "            print(\"Invalid input: Age must be a positive integer.\")\n",
    "            \n",
    "\n",
    "# Example usage\n",
    "person = Person(\"Vishal Kumar\", 20)\n",
    "\n",
    "# Using the getter methods\n",
    "print(person.name)  \n",
    "print(person.age)   \n",
    "\n",
    "# Using the setter methods\n",
    "person.name = \"Rakshit Arora\"\n",
    "person.age = 20\n",
    "\n",
    "print(person.name)  \n",
    "print(person.age)  \n",
    "\n",
    "# Trying to set invalid values\n",
    "person.name = 123  \n",
    "person.age = -5   \n",
    "\n",
    "print(person.name)  \n",
    "print(person.age)  "
   ]
  },
  {
   "cell_type": "code",
   "execution_count": 5,
   "id": "96402531-0089-47c6-b680-13fe60fe2b55",
   "metadata": {},
   "outputs": [
    {
     "name": "stdout",
     "output_type": "stream",
     "text": [
      "Animal makes a sound\n",
      "Dog barks\n",
      "Cat meows\n"
     ]
    }
   ],
   "source": [
    "# Method overriding in Python is a feature of object-oriented programming that allows a subclass to provide a specific implementation of a method that is already defined in its superclass. When a subclass defines a method with the same name as one in its superclass, the subclass's method overrides the superclass's method. This enables polymorphism, where different subclasses can provide their own implementation of the same method.\n",
    "class Animal:\n",
    "    def speak(self):\n",
    "        return \"Animal makes a sound\"\n",
    "\n",
    "class Dog(Animal):\n",
    "    def speak(self):\n",
    "        return \"Dog barks\"\n",
    "\n",
    "class Cat(Animal):\n",
    "    def speak(self):\n",
    "        return \"Cat meows\"\n",
    "\n",
    "# Creating instances of the classes\n",
    "generic_animal = Animal()\n",
    "dog = Dog()\n",
    "cat = Cat()\n",
    "\n",
    "# Calling the speak method on each instance\n",
    "print(generic_animal.speak())  \n",
    "print(dog.speak())            \n",
    "print(cat.speak())            "
   ]
  },
  {
   "cell_type": "code",
   "execution_count": null,
   "id": "b7681c46-e026-4f11-867d-01dadffd506e",
   "metadata": {},
   "outputs": [],
   "source": []
  }
 ],
 "metadata": {
  "kernelspec": {
   "display_name": "Python 3 (ipykernel)",
   "language": "python",
   "name": "python3"
  },
  "language_info": {
   "codemirror_mode": {
    "name": "ipython",
    "version": 3
   },
   "file_extension": ".py",
   "mimetype": "text/x-python",
   "name": "python",
   "nbconvert_exporter": "python",
   "pygments_lexer": "ipython3",
   "version": "3.11.7"
  }
 },
 "nbformat": 4,
 "nbformat_minor": 5
}
